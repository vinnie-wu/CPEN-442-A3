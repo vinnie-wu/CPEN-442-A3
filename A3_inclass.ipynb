{
  "nbformat": 4,
  "nbformat_minor": 0,
  "metadata": {
    "colab": {
      "provenance": [],
      "collapsed_sections": []
    },
    "kernelspec": {
      "name": "python3",
      "display_name": "Python 3"
    },
    "language_info": {
      "name": "python"
    }
  },
  "cells": [
    {
      "cell_type": "code",
      "execution_count": 22,
      "metadata": {
        "colab": {
          "base_uri": "https://localhost:8080/"
        },
        "id": "x9WM6ySXoaOW",
        "outputId": "6059bd7f-372b-4d3d-c116-75c8cc2eab53"
      },
      "outputs": [
        {
          "output_type": "stream",
          "name": "stdout",
          "text": [
            "4e7d696bce894548dded72f6eeb04e8d625cc7f2afd08845824a4a8378b428d1\n",
            "About to Run BIG LOOP\n",
            "Success!\n",
            "0000f023ce400029458a7b9859abe343fbc3af98219f7554b6322135f2a7e14e\n",
            "coin blob: 44557\n",
            "DONE\n",
            "Solved 4 zeros in 0.0921 seconds.\n",
            "Success!\n",
            "0000089f8a90d4565975b5bacea8416207322413c94104b2810b053eea6552d2\n",
            "coin blob: 802435\n",
            "DONE\n",
            "Solved 5 zeros in 2.7555 seconds.\n",
            "Success!\n",
            "00000049edfacd04caaf48353c0dee0bd919b161514b1eb3ea5775404365f8fd\n",
            "coin blob: 5184758\n",
            "DONE\n",
            "Solved 6 zeros in 9.7696 seconds.\n"
          ]
        }
      ],
      "source": [
        "# This is the problem:\n",
        "# SHA256(\"CPEN 442 Coin\" + \"2022\" + hash_of_preceding_coin + coin_blob + id_of_miner)\n",
        "#           ^ constant      ^ constant    ^ given             ^ find it.    ^ we choose.\n",
        "# Success if output starts with '0000'\n",
        "import hashlib\n",
        "import time\n",
        "a_string = 'this string holds important and private information'\n",
        "hashed_string = hashlib.sha256(a_string.encode('utf-8')).hexdigest()\n",
        "print(hashed_string)\n",
        "\n",
        "# This is given.\n",
        "hash_of_preceding_coin = \"a9c1ae3f4fc29d0be9113a42090a5ef9fdef93f5ec4777a008873972e60bb532\"\n",
        "# We choose this one.\n",
        "id_of_miner = \"256\"\n",
        "# coin_blob <-- we need to iterate on this one.\n",
        "print(\"About to Run BIG LOOP\")\n",
        "\n",
        "# --- 1. for 4 zero's: 0000\n",
        "tic = time.perf_counter()\n",
        "for coin_blob in range(0, 0X7FFFFFFF):\n",
        "  # Concatenate them.\n",
        "  a_string = \"CPEN 442 Coin\" + \"2022\" + hash_of_preceding_coin + str(coin_blob) + id_of_miner\n",
        "  hashed_string = hashlib.sha256(a_string.encode('utf-8')).hexdigest()\n",
        "  if hashed_string[0:4] == '0000':\n",
        "    print(\"Success!\")\n",
        "    print(hashed_string)\n",
        "    print(\"coin blob: \" + str(coin_blob))\n",
        "    break;\n",
        "toc = time.perf_counter()\n",
        "print(\"DONE\")\n",
        "print(f\"Solved 4 zeros in {toc - tic:0.4f} seconds.\")\n",
        "\n",
        "# --- 2. for 5 zero's: 00000 --------\n",
        "tic = time.perf_counter()\n",
        "for coin_blob in range(0, 0X7FFFFFFF):\n",
        "  # Concatenate them.\n",
        "  a_string = \"CPEN 442 Coin\" + \"2022\" + hash_of_preceding_coin + str(coin_blob) + id_of_miner\n",
        "  hashed_string = hashlib.sha256(a_string.encode('utf-8')).hexdigest()\n",
        "  if hashed_string[0:5] == '00000':\n",
        "    print(\"Success!\")\n",
        "    print(hashed_string)\n",
        "    print(\"coin blob: \" + str(coin_blob))\n",
        "    break;\n",
        "toc = time.perf_counter()\n",
        "print(\"DONE\")\n",
        "print(f\"Solved 5 zeros in {toc - tic:0.4f} seconds.\")\n",
        "\n",
        "\n",
        "# --- 3. for 6 zero's: 000000 ---------\n",
        "#https://realpython.com/python-timer/\n",
        "tic = time.perf_counter()\n",
        "for coin_blob in range(0, 0X7FFFFFFF):\n",
        "  # Concatenate them.\n",
        "  a_string = \"CPEN 442 Coin\" + \"2022\" + hash_of_preceding_coin + str(coin_blob) + id_of_miner\n",
        "  hashed_string = hashlib.sha256(a_string.encode('utf-8')).hexdigest()\n",
        "  if hashed_string[0:6] == '000000':\n",
        "    print(\"Success!\")\n",
        "    print(hashed_string)\n",
        "    print(\"coin blob: \" + str(coin_blob))\n",
        "    break;\n",
        "toc = time.perf_counter()\n",
        "print(\"DONE\")\n",
        "print(f\"Solved 6 zeros in {toc - tic:0.4f} seconds.\")\n",
        "\n",
        "# References; https://datagy.io/python-sha256/ -- gives the has function, converts it to string."
      ]
    }
  ]
}